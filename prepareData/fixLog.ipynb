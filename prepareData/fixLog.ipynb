{
 "cells": [
  {
   "cell_type": "code",
   "execution_count": 3,
   "metadata": {},
   "outputs": [],
   "source": [
    "import re\n",
    "import random\n",
    "from datetime import datetime\n",
    "\n",
    "with open('/Users/ren/Documents/workspace/E-Commerce-Analysis/data/raw/access_log.txt', 'r') as file:\n",
    "    logs = file.readlines()\n",
    "\n",
    "\n",
    "def change_year(log_line):\n",
    "    date_pattern = r'\\[(\\d{2})/([A-Za-z]{3})/(\\d{4})(:[\\d: -]+)\\]'\n",
    "\n",
    "    def replace_year(match):\n",
    "        day = int(match.group(1))\n",
    "        month = match.group(2)\n",
    "        original_year = int(match.group(3))\n",
    "        time_zone = match.group(4)\n",
    "        new_year = random.choice([2017, 2018])\n",
    "\n",
    "        if day == 29 and month == 'Feb':\n",
    "            day = 28\n",
    "        return f\"[{day:02d}/{month}/{new_year}{time_zone}]\"\n",
    "\n",
    "    new_log_line = re.sub(date_pattern, replace_year, log_line)\n",
    "\n",
    "    return new_log_line\n",
    "\n",
    "\n",
    "updated_logs = [change_year(line) for line in logs]\n",
    "\n",
    "\n",
    "def extract_datetime(log_line):\n",
    "    date_pattern = r'\\[(\\d{2})/([A-Za-z]{3})/(\\d{4})'\n",
    "    match = re.search(date_pattern, log_line)\n",
    "    if match:\n",
    "        day = int(match.group(1))\n",
    "        month_str = match.group(2)\n",
    "        year = int(match.group(3))\n",
    "        month = datetime.strptime(month_str, '%b').month\n",
    "        return datetime(year, month, day)\n",
    "    return None\n",
    "\n",
    "\n",
    "sorted_logs = sorted(updated_logs, key=extract_datetime)\n",
    "with open('/Users/ren/Documents/workspace/E-Commerce-Analysis/data/updated/access_log_updated.txt', 'w') as file:\n",
    "    file.writelines(sorted_logs)"
   ]
  },
  {
   "cell_type": "code",
   "execution_count": 1,
   "metadata": {},
   "outputs": [],
   "source": [
    "input_file = \"../data/updated/access_log_updated.txt\"\n",
    "output_file = \"../nifi/data/test_access_log.txt\"\n",
    "\n",
    "num_lines = 100000\n",
    "\n",
    "with open(input_file, \"r\") as infile, open(output_file, \"w\") as outfile:\n",
    "    for i, line in enumerate(infile):\n",
    "        if i < num_lines:\n",
    "            outfile.write(line)\n",
    "        else:\n",
    "            break"
   ]
  }
 ],
 "metadata": {
  "kernelspec": {
   "display_name": "base",
   "language": "python",
   "name": "python3"
  },
  "language_info": {
   "codemirror_mode": {
    "name": "ipython",
    "version": 3
   },
   "file_extension": ".py",
   "mimetype": "text/x-python",
   "name": "python",
   "nbconvert_exporter": "python",
   "pygments_lexer": "ipython3",
   "version": "3.11.7"
  }
 },
 "nbformat": 4,
 "nbformat_minor": 2
}
