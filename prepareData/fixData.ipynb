{
 "cells": [
  {
   "cell_type": "code",
   "execution_count": 15,
   "metadata": {},
   "outputs": [],
   "source": [
    "import os\n",
    "import pandas as pd\n",
    "\n",
    "input_folder = '/Users/ren/Documents/workspace/E-Commerce-Analysis/data/Dataset'\n",
    "\n",
    "output_folder = '/Users/ren/Documents/workspace/E-Commerce-Analysis/prepareData/data'\n",
    "\n",
    "os.makedirs(output_folder, exist_ok=True)\n",
    "\n",
    "for file_name in os.listdir(input_folder):\n",
    "    if file_name.endswith('.csv'):\n",
    "        input_file_path = os.path.join(input_folder, file_name)\n",
    "        output_file_path = os.path.join(output_folder, file_name)\n",
    "\n",
    "        try:\n",
    "            df = pd.read_csv(input_file_path, encoding='ascii')\n",
    "        except UnicodeDecodeError:\n",
    "            df = pd.read_csv(input_file_path, encoding='utf-8')\n",
    "\n",
    "        df.to_csv(output_file_path, index=False, encoding='utf-8')"
   ]
  },
  {
   "cell_type": "code",
   "execution_count": 95,
   "metadata": {},
   "outputs": [],
   "source": [
    "import pandas as pd\n",
    "import unidecode\n",
    "\n",
    "\n",
    "def replace_special_characters(city_name):\n",
    "    return unidecode.unidecode(city_name)\n",
    "\n",
    "\n",
    "df = pd.read_csv(\n",
    "    \"/Users/ren/Documents/workspace/E-Commerce-Analysis/data/Dataset/Geolocation.csv\")\n",
    "df['geolocation_city'] = df['geolocation_city'].apply(\n",
    "    replace_special_characters)"
   ]
  },
  {
   "cell_type": "markdown",
   "metadata": {},
   "source": [
    "# TABLE leads_qualified"
   ]
  },
  {
   "cell_type": "markdown",
   "metadata": {},
   "source": [
    "#### mql_id VARCHAR(32) PRIMARY KEY,\n",
    "#### first_contact_date DATE,\n",
    "#### landing_page_id VARCHAR(32),\n",
    "#### origin VARCHAR(255)"
   ]
  },
  {
   "cell_type": "code",
   "execution_count": 193,
   "metadata": {},
   "outputs": [],
   "source": [
    "df_lq = pd.read_csv(\n",
    "    \"/Users/ren/Documents/workspace/E-Commerce-Analysis/data/datapre/leads_qualified.csv\")"
   ]
  },
  {
   "cell_type": "code",
   "execution_count": 194,
   "metadata": {},
   "outputs": [
    {
     "data": {
      "text/html": [
       "<div>\n",
       "<style scoped>\n",
       "    .dataframe tbody tr th:only-of-type {\n",
       "        vertical-align: middle;\n",
       "    }\n",
       "\n",
       "    .dataframe tbody tr th {\n",
       "        vertical-align: top;\n",
       "    }\n",
       "\n",
       "    .dataframe thead th {\n",
       "        text-align: right;\n",
       "    }\n",
       "</style>\n",
       "<table border=\"1\" class=\"dataframe\">\n",
       "  <thead>\n",
       "    <tr style=\"text-align: right;\">\n",
       "      <th></th>\n",
       "      <th>mql_id</th>\n",
       "      <th>first_contact_date</th>\n",
       "      <th>landing_page_id</th>\n",
       "      <th>origin</th>\n",
       "    </tr>\n",
       "  </thead>\n",
       "  <tbody>\n",
       "    <tr>\n",
       "      <th>0</th>\n",
       "      <td>dac32acd4db4c29c230538b72f8dd87d</td>\n",
       "      <td>2018-02-01</td>\n",
       "      <td>88740e65d5d6b056e0cda098e1ea6313</td>\n",
       "      <td>social</td>\n",
       "    </tr>\n",
       "    <tr>\n",
       "      <th>1</th>\n",
       "      <td>8c18d1de7f67e60dbd64e3c07d7e9d5d</td>\n",
       "      <td>2017-10-20</td>\n",
       "      <td>007f9098284a86ee80ddeb25d53e0af8</td>\n",
       "      <td>paid_search</td>\n",
       "    </tr>\n",
       "    <tr>\n",
       "      <th>2</th>\n",
       "      <td>b4bc852d233dfefc5131f593b538befa</td>\n",
       "      <td>2018-03-22</td>\n",
       "      <td>a7982125ff7aa3b2054c6e44f9d28522</td>\n",
       "      <td>organic_search</td>\n",
       "    </tr>\n",
       "    <tr>\n",
       "      <th>3</th>\n",
       "      <td>6be030b81c75970747525b843c1ef4f8</td>\n",
       "      <td>2018-01-22</td>\n",
       "      <td>d45d558f0daeecf3cccdffe3c59684aa</td>\n",
       "      <td>email</td>\n",
       "    </tr>\n",
       "    <tr>\n",
       "      <th>4</th>\n",
       "      <td>5420aad7fec3549a85876ba1c529bd84</td>\n",
       "      <td>2018-02-21</td>\n",
       "      <td>b48ec5f3b04e9068441002a19df93c6c</td>\n",
       "      <td>organic_search</td>\n",
       "    </tr>\n",
       "  </tbody>\n",
       "</table>\n",
       "</div>"
      ],
      "text/plain": [
       "                             mql_id first_contact_date  \\\n",
       "0  dac32acd4db4c29c230538b72f8dd87d         2018-02-01   \n",
       "1  8c18d1de7f67e60dbd64e3c07d7e9d5d         2017-10-20   \n",
       "2  b4bc852d233dfefc5131f593b538befa         2018-03-22   \n",
       "3  6be030b81c75970747525b843c1ef4f8         2018-01-22   \n",
       "4  5420aad7fec3549a85876ba1c529bd84         2018-02-21   \n",
       "\n",
       "                    landing_page_id          origin  \n",
       "0  88740e65d5d6b056e0cda098e1ea6313          social  \n",
       "1  007f9098284a86ee80ddeb25d53e0af8     paid_search  \n",
       "2  a7982125ff7aa3b2054c6e44f9d28522  organic_search  \n",
       "3  d45d558f0daeecf3cccdffe3c59684aa           email  \n",
       "4  b48ec5f3b04e9068441002a19df93c6c  organic_search  "
      ]
     },
     "execution_count": 194,
     "metadata": {},
     "output_type": "execute_result"
    }
   ],
   "source": [
    "df_lq.head()"
   ]
  },
  {
   "cell_type": "code",
   "execution_count": 195,
   "metadata": {},
   "outputs": [
    {
     "data": {
      "text/plain": [
       "array(['social', 'paid_search', 'organic_search', 'email', 'unknown',\n",
       "       'referral', 'direct_traffic', 'display', nan, 'other_publicities',\n",
       "       'other'], dtype=object)"
      ]
     },
     "execution_count": 195,
     "metadata": {},
     "output_type": "execute_result"
    }
   ],
   "source": [
    "df_lq[\"origin\"].unique()"
   ]
  },
  {
   "cell_type": "code",
   "execution_count": 143,
   "metadata": {},
   "outputs": [
    {
     "data": {
      "text/plain": [
       "mql_id                object\n",
       "first_contact_date    object\n",
       "landing_page_id       object\n",
       "origin                object\n",
       "dtype: object"
      ]
     },
     "execution_count": 143,
     "metadata": {},
     "output_type": "execute_result"
    }
   ],
   "source": [
    "df_lq.dtypes"
   ]
  },
  {
   "cell_type": "markdown",
   "metadata": {},
   "source": [
    "# TABLE geolocation"
   ]
  },
  {
   "cell_type": "markdown",
   "metadata": {},
   "source": [
    "#### geolocation_zip_code_prefix INT,\n",
    "#### geolocation_lat DOUBLE,\n",
    "#### geolocation_lng DOUBLE,\n",
    "#### geolocation_city VARCHAR(255),\n",
    "#### geolocation_state CHAR(2),\n",
    "#### PRIMARY KEY (geolocation_zip_code_prefix, geolocation_lat, geolocation_lng)"
   ]
  },
  {
   "cell_type": "code",
   "execution_count": 216,
   "metadata": {},
   "outputs": [],
   "source": [
    "df_geo = pd.read_csv(\n",
    "    \"/Users/ren/Documents/workspace/E-Commerce-Analysis/data/datapre/geolocation.csv\")"
   ]
  },
  {
   "cell_type": "code",
   "execution_count": 217,
   "metadata": {},
   "outputs": [
    {
     "data": {
      "text/html": [
       "<div>\n",
       "<style scoped>\n",
       "    .dataframe tbody tr th:only-of-type {\n",
       "        vertical-align: middle;\n",
       "    }\n",
       "\n",
       "    .dataframe tbody tr th {\n",
       "        vertical-align: top;\n",
       "    }\n",
       "\n",
       "    .dataframe thead th {\n",
       "        text-align: right;\n",
       "    }\n",
       "</style>\n",
       "<table border=\"1\" class=\"dataframe\">\n",
       "  <thead>\n",
       "    <tr style=\"text-align: right;\">\n",
       "      <th></th>\n",
       "      <th>geolocation_zip_code_prefix</th>\n",
       "      <th>geolocation_lat</th>\n",
       "      <th>geolocation_lng</th>\n",
       "      <th>geolocation_city</th>\n",
       "      <th>geolocation_state</th>\n",
       "    </tr>\n",
       "  </thead>\n",
       "  <tbody>\n",
       "    <tr>\n",
       "      <th>0</th>\n",
       "      <td>1037</td>\n",
       "      <td>-23.545621</td>\n",
       "      <td>-46.639292</td>\n",
       "      <td>sao paulo</td>\n",
       "      <td>SP</td>\n",
       "    </tr>\n",
       "    <tr>\n",
       "      <th>1</th>\n",
       "      <td>1046</td>\n",
       "      <td>-23.546081</td>\n",
       "      <td>-46.644820</td>\n",
       "      <td>sao paulo</td>\n",
       "      <td>SP</td>\n",
       "    </tr>\n",
       "    <tr>\n",
       "      <th>2</th>\n",
       "      <td>1046</td>\n",
       "      <td>-23.546129</td>\n",
       "      <td>-46.642951</td>\n",
       "      <td>sao paulo</td>\n",
       "      <td>SP</td>\n",
       "    </tr>\n",
       "    <tr>\n",
       "      <th>3</th>\n",
       "      <td>1041</td>\n",
       "      <td>-23.544392</td>\n",
       "      <td>-46.639499</td>\n",
       "      <td>sao paulo</td>\n",
       "      <td>SP</td>\n",
       "    </tr>\n",
       "    <tr>\n",
       "      <th>4</th>\n",
       "      <td>1035</td>\n",
       "      <td>-23.541578</td>\n",
       "      <td>-46.641607</td>\n",
       "      <td>sao paulo</td>\n",
       "      <td>SP</td>\n",
       "    </tr>\n",
       "  </tbody>\n",
       "</table>\n",
       "</div>"
      ],
      "text/plain": [
       "   geolocation_zip_code_prefix  geolocation_lat  geolocation_lng  \\\n",
       "0                         1037       -23.545621       -46.639292   \n",
       "1                         1046       -23.546081       -46.644820   \n",
       "2                         1046       -23.546129       -46.642951   \n",
       "3                         1041       -23.544392       -46.639499   \n",
       "4                         1035       -23.541578       -46.641607   \n",
       "\n",
       "  geolocation_city geolocation_state  \n",
       "0        sao paulo                SP  \n",
       "1        sao paulo                SP  \n",
       "2        sao paulo                SP  \n",
       "3        sao paulo                SP  \n",
       "4        sao paulo                SP  "
      ]
     },
     "execution_count": 217,
     "metadata": {},
     "output_type": "execute_result"
    }
   ],
   "source": [
    "df_geo.head()"
   ]
  },
  {
   "cell_type": "code",
   "execution_count": 218,
   "metadata": {},
   "outputs": [
    {
     "data": {
      "text/plain": [
       "(1000163, 5)"
      ]
     },
     "execution_count": 218,
     "metadata": {},
     "output_type": "execute_result"
    }
   ],
   "source": [
    "df_geo.shape"
   ]
  },
  {
   "cell_type": "code",
   "execution_count": 219,
   "metadata": {},
   "outputs": [
    {
     "data": {
      "text/plain": [
       "array([ 1037,  1046,  1041, ..., 99910, 99920, 99952])"
      ]
     },
     "execution_count": 219,
     "metadata": {},
     "output_type": "execute_result"
    }
   ],
   "source": [
    "df_geo[\"geolocation_zip_code_prefix\"].unique()"
   ]
  },
  {
   "cell_type": "code",
   "execution_count": 220,
   "metadata": {},
   "outputs": [
    {
     "data": {
      "text/plain": [
       "(19015,)"
      ]
     },
     "execution_count": 220,
     "metadata": {},
     "output_type": "execute_result"
    }
   ],
   "source": [
    "df_geo[\"geolocation_zip_code_prefix\"].unique().shape"
   ]
  },
  {
   "cell_type": "code",
   "execution_count": 196,
   "metadata": {},
   "outputs": [],
   "source": [
    "df_sell = pd.read_csv(\n",
    "    \"/Users/ren/Documents/workspace/E-Commerce-Analysis/data/Dataset/Sellers.csv\")"
   ]
  },
  {
   "cell_type": "code",
   "execution_count": 197,
   "metadata": {},
   "outputs": [
    {
     "data": {
      "text/html": [
       "<div>\n",
       "<style scoped>\n",
       "    .dataframe tbody tr th:only-of-type {\n",
       "        vertical-align: middle;\n",
       "    }\n",
       "\n",
       "    .dataframe tbody tr th {\n",
       "        vertical-align: top;\n",
       "    }\n",
       "\n",
       "    .dataframe thead th {\n",
       "        text-align: right;\n",
       "    }\n",
       "</style>\n",
       "<table border=\"1\" class=\"dataframe\">\n",
       "  <thead>\n",
       "    <tr style=\"text-align: right;\">\n",
       "      <th></th>\n",
       "      <th>seller_id</th>\n",
       "      <th>seller_zip_code_prefix</th>\n",
       "      <th>seller_city</th>\n",
       "      <th>seller_state</th>\n",
       "    </tr>\n",
       "  </thead>\n",
       "  <tbody>\n",
       "    <tr>\n",
       "      <th>0</th>\n",
       "      <td>3442f8959a84dea7ee197c632cb2df15</td>\n",
       "      <td>13023</td>\n",
       "      <td>campinas</td>\n",
       "      <td>SP</td>\n",
       "    </tr>\n",
       "    <tr>\n",
       "      <th>1</th>\n",
       "      <td>d1b65fc7debc3361ea86b5f14c68d2e2</td>\n",
       "      <td>13844</td>\n",
       "      <td>mogi guacu</td>\n",
       "      <td>SP</td>\n",
       "    </tr>\n",
       "    <tr>\n",
       "      <th>2</th>\n",
       "      <td>ce3ad9de960102d0677a81f5d0bb7b2d</td>\n",
       "      <td>20031</td>\n",
       "      <td>rio de janeiro</td>\n",
       "      <td>RJ</td>\n",
       "    </tr>\n",
       "    <tr>\n",
       "      <th>3</th>\n",
       "      <td>c0f3eea2e14555b6faeea3dd58c1b1c3</td>\n",
       "      <td>4195</td>\n",
       "      <td>sao paulo</td>\n",
       "      <td>SP</td>\n",
       "    </tr>\n",
       "    <tr>\n",
       "      <th>4</th>\n",
       "      <td>51a04a8a6bdcb23deccc82b0b80742cf</td>\n",
       "      <td>12914</td>\n",
       "      <td>braganca paulista</td>\n",
       "      <td>SP</td>\n",
       "    </tr>\n",
       "  </tbody>\n",
       "</table>\n",
       "</div>"
      ],
      "text/plain": [
       "                          seller_id  seller_zip_code_prefix  \\\n",
       "0  3442f8959a84dea7ee197c632cb2df15                   13023   \n",
       "1  d1b65fc7debc3361ea86b5f14c68d2e2                   13844   \n",
       "2  ce3ad9de960102d0677a81f5d0bb7b2d                   20031   \n",
       "3  c0f3eea2e14555b6faeea3dd58c1b1c3                    4195   \n",
       "4  51a04a8a6bdcb23deccc82b0b80742cf                   12914   \n",
       "\n",
       "         seller_city seller_state  \n",
       "0           campinas           SP  \n",
       "1         mogi guacu           SP  \n",
       "2     rio de janeiro           RJ  \n",
       "3          sao paulo           SP  \n",
       "4  braganca paulista           SP  "
      ]
     },
     "execution_count": 197,
     "metadata": {},
     "output_type": "execute_result"
    }
   ],
   "source": [
    "df_sell.head()"
   ]
  },
  {
   "cell_type": "code",
   "execution_count": 199,
   "metadata": {},
   "outputs": [
    {
     "data": {
      "text/plain": [
       "array([13023, 13844, 20031, ...,  4650, 96080, 12051])"
      ]
     },
     "execution_count": 199,
     "metadata": {},
     "output_type": "execute_result"
    }
   ],
   "source": [
    "df_sell[\"seller_zip_code_prefix\"].unique()"
   ]
  },
  {
   "cell_type": "code",
   "execution_count": null,
   "metadata": {},
   "outputs": [],
   "source": []
  },
  {
   "cell_type": "code",
   "execution_count": 166,
   "metadata": {},
   "outputs": [],
   "source": [
    "df_lc = pd.read_csv(\n",
    "    \"/Users/ren/Documents/workspace/E-Commerce-Analysis/data/datapre/leads_closed.csv\")"
   ]
  },
  {
   "cell_type": "code",
   "execution_count": 176,
   "metadata": {},
   "outputs": [],
   "source": [
    "df_lc.replace('', pd.NA, inplace=True)\n",
    "\n",
    "df_lc['has_company'] = df_lc['has_company'].fillna(0).astype('int')\n",
    "df_lc['has_gtin'] = df_lc['has_gtin'].fillna(0).astype('int')\n",
    "\n",
    "df_lc.to_csv('cleaned_file.csv', index=False)"
   ]
  },
  {
   "cell_type": "code",
   "execution_count": 170,
   "metadata": {},
   "outputs": [
    {
     "data": {
      "text/plain": [
       "(842, 14)"
      ]
     },
     "execution_count": 170,
     "metadata": {},
     "output_type": "execute_result"
    }
   ],
   "source": [
    "df_lc.shape"
   ]
  },
  {
   "cell_type": "code",
   "execution_count": 177,
   "metadata": {},
   "outputs": [],
   "source": [
    "import numpy as np\n",
    "\n",
    "valid_seller_ids = df_sell['seller_id'].unique()\n",
    "invalid_sellers = ~df_lc['seller_id'].isin(valid_seller_ids)\n",
    "\n",
    "np.random.seed(42)\n",
    "df_lc.loc[invalid_sellers, 'seller_id'] = np.random.choice(\n",
    "    valid_seller_ids, size=invalid_sellers.sum())"
   ]
  },
  {
   "cell_type": "code",
   "execution_count": 178,
   "metadata": {},
   "outputs": [],
   "source": [
    "df_lc.to_csv('updated_leads_closed.csv', index=False)"
   ]
  },
  {
   "cell_type": "code",
   "execution_count": 179,
   "metadata": {},
   "outputs": [],
   "source": [
    "import pandas as pd\n",
    "\n",
    "df = pd.read_csv(\n",
    "    '/Users/ren/Documents/workspace/E-Commerce-Analysis/data/datapre/leads_closed.csv')\n",
    "\n",
    "df.replace('', pd.NA, inplace=True)\n",
    "\n",
    "\n",
    "df['has_company'] = df['has_company'].fillna(0).astype('int')\n",
    "df['has_gtin'] = df['has_gtin'].fillna(0).astype('int')\n",
    "df['declared_product_catalog_size'] = df['declared_product_catalog_size'].fillna(\n",
    "    0).astype('int')\n",
    "\n",
    "df['average_stock'] = pd.to_numeric(\n",
    "    df['average_stock'], errors='coerce').fillna(0)\n",
    "\n",
    "# Save the cleaned DataFrame\n",
    "df.to_csv('cleaned_file.csv', index=False)"
   ]
  },
  {
   "cell_type": "code",
   "execution_count": 180,
   "metadata": {},
   "outputs": [],
   "source": [
    "import numpy as np\n",
    "\n",
    "df_lc = pd.read_csv(\n",
    "    '/Users/ren/Documents/workspace/E-Commerce-Analysis/prepareData/cleaned_file.csv')\n",
    "df_sell = pd.read_csv(\n",
    "    '/Users/ren/Documents/workspace/E-Commerce-Analysis/data/datapre/sellers.csv')\n",
    "\n",
    "valid_seller_ids = df_sell['seller_id'].unique()\n",
    "\n",
    "invalid_indices = ~df_lc['seller_id'].isin(valid_seller_ids)\n",
    "df_lc.loc[invalid_indices, 'seller_id'] = np.random.choice(\n",
    "    valid_seller_ids, size=invalid_indices.sum())\n",
    "\n",
    "df_lc.to_csv('leads_closed_updated.csv', index=False)"
   ]
  },
  {
   "cell_type": "code",
   "execution_count": 167,
   "metadata": {},
   "outputs": [],
   "source": [
    "valid_seller_ids = df_sell['seller_id'].unique()\n",
    "df_lc_filtered = df_lc[df_lc['seller_id'].isin(valid_seller_ids)]\n",
    "df_lc_filtered.to_csv('filtered_leads_closed.csv', index=False)"
   ]
  },
  {
   "cell_type": "code",
   "execution_count": 221,
   "metadata": {},
   "outputs": [],
   "source": [
    "import pandas as pd\n",
    "\n",
    "df = pd.read_csv(\n",
    "    '/Users/ren/Documents/workspace/E-Commerce-Analysis/Brazilian E-Commerce Public Dataset by Olist.csv')"
   ]
  },
  {
   "cell_type": "code",
   "execution_count": 4,
   "metadata": {},
   "outputs": [
    {
     "name": "stdout",
     "output_type": "stream",
     "text": [
      "Các bảng đã được tách ra và lưu thành các file CSV riêng biệt.\n"
     ]
    }
   ],
   "source": [
    "import pandas as pd\n",
    "\n",
    "df = pd.read_csv(\n",
    "    '/Users/ren/Documents/workspace/E-Commerce-Analysis/Brazilian E-Commerce Public Dataset by Olist.csv')\n",
    "\n",
    "categories = df[['product_category_name']\n",
    "                ].drop_duplicates().reset_index(drop=True)\n",
    "categories.to_csv('categories.csv', index=False)\n",
    "\n",
    "customers = df[['customer_id', 'customer_unique_id', 'customer_zip_code_prefix',\n",
    "                'customer_city', 'customer_state']].drop_duplicates().reset_index(drop=True)\n",
    "customers.to_csv('customers.csv', index=False)\n",
    "\n",
    "geolocation = df[['customer_zip_code_prefix', 'customer_city',\n",
    "                  'customer_state']].drop_duplicates().reset_index(drop=True)\n",
    "geolocation.to_csv('geolocation.csv', index=False)\n",
    "\n",
    "products = df[['product_id', 'product_category_name', 'product_name_lenght', 'product_description_lenght',\n",
    "               'product_photos_qty', 'product_weight_g', 'product_length_cm',\n",
    "               'product_height_cm', 'product_width_cm']].drop_duplicates().reset_index(drop=True)\n",
    "products.to_csv('products.csv', index=False)\n",
    "\n",
    "sellers = df[['seller_id', 'seller_city', 'seller_state',\n",
    "              'seller_zip_code_prefix']].drop_duplicates().reset_index(drop=True)\n",
    "sellers.to_csv('sellers.csv', index=False)\n",
    "\n",
    "orders = df[['order_id', 'customer_id', 'order_purchase_timestamp', 'order_approved_at',\n",
    "             'order_delivered_carrier_date', 'order_delivered_customer_date',\n",
    "             'order_estimated_delivery_date', 'order_status', 'order_unique_id']].drop_duplicates().reset_index(drop=True)\n",
    "orders.to_csv('orders.csv', index=False)\n",
    "\n",
    "# Tạo bảng 'order_items'\n",
    "order_items = df[['order_id', 'order_item_id', 'product_id', 'seller_id', 'price',\n",
    "                  'freight_value']].drop_duplicates().reset_index(drop=True)\n",
    "order_items.to_csv('order_items.csv', index=False)\n",
    "\n",
    "order_payments = df[['order_id', 'payment_type', 'payment_sequential', 'payment_installments',\n",
    "                     'payment_value']].drop_duplicates().reset_index(drop=True)\n",
    "order_payments.to_csv('order_payments.csv', index=False)\n",
    "\n",
    "print(\"Các bảng đã được tách ra và lưu thành các file CSV riêng biệt.\")"
   ]
  },
  {
   "cell_type": "code",
   "execution_count": 6,
   "metadata": {},
   "outputs": [
    {
     "data": {
      "text/plain": [
       "(2914, 4)"
      ]
     },
     "execution_count": 6,
     "metadata": {},
     "output_type": "execute_result"
    }
   ],
   "source": [
    "pd.read_csv(\n",
    "    \"/Users/ren/Documents/workspace/E-Commerce-Analysis/dataa/sellers.csv\").shape"
   ]
  },
  {
   "cell_type": "code",
   "execution_count": 8,
   "metadata": {},
   "outputs": [],
   "source": [
    "import pandas as pd\n",
    "\n",
    "df = pd.read_csv(\n",
    "    '/Users/ren/Documents/workspace/E-Commerce-Analysis/dataa/sellers.csv')\n",
    "\n",
    "\n",
    "\n",
    "def ensure_quotes(seller_id):\n",
    "    if (seller_id.startswith('\"') and seller_id.endswith('\"')):\n",
    "        return seller_id[1:-1]\n",
    "    return seller_id\n",
    "\n",
    "\n",
    "df['seller_id'] = df['seller_id'].apply(ensure_quotes)\n",
    "\n",
    "df.to_csv('fixed_csvfile.csv', index=False)"
   ]
  },
  {
   "cell_type": "code",
   "execution_count": 9,
   "metadata": {},
   "outputs": [],
   "source": [
    "df = pd.read_csv(\n",
    "    '/Users/ren/Documents/workspace/E-Commerce-Analysis/dataa/sellers.csv')"
   ]
  },
  {
   "cell_type": "code",
   "execution_count": 12,
   "metadata": {},
   "outputs": [
    {
     "data": {
      "text/plain": [
       "(2914, 4)"
      ]
     },
     "execution_count": 12,
     "metadata": {},
     "output_type": "execute_result"
    }
   ],
   "source": [
    "df.shape"
   ]
  },
  {
   "cell_type": "code",
   "execution_count": null,
   "metadata": {},
   "outputs": [],
   "source": []
  }
 ],
 "metadata": {
  "kernelspec": {
   "display_name": "base",
   "language": "python",
   "name": "python3"
  },
  "language_info": {
   "codemirror_mode": {
    "name": "ipython",
    "version": 3
   },
   "file_extension": ".py",
   "mimetype": "text/x-python",
   "name": "python",
   "nbconvert_exporter": "python",
   "pygments_lexer": "ipython3",
   "version": "3.11.7"
  }
 },
 "nbformat": 4,
 "nbformat_minor": 2
}
