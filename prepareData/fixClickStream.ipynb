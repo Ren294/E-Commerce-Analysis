{
 "cells": [
  {
   "cell_type": "code",
   "execution_count": 7,
   "metadata": {},
   "outputs": [],
   "source": [
    "import pandas as pd\n",
    "import random\n",
    "from datetime import datetime\n",
    "from dateutil.relativedelta import relativedelta\n",
    "\n",
    "product_df = pd.read_csv(\n",
    "    '/Users/ren/Documents/workspace/E-Commerce-Analysis/data/ecommerce-data/data/olist-ecommerce/olist_products_dataset.csv')\n",
    "clickstream_df = pd.read_csv(\n",
    "    '/Users/ren/Documents/workspace/E-Commerce-Analysis/data/raw/ecommerce_clickstream_transactions.csv')\n",
    "\n",
    "product_ids = product_df['product_id'].tolist()\n",
    "\n",
    "product_id_clickstream = clickstream_df['ProductID'].unique()\n",
    "product_id_clickstream = [\n",
    "    pid for pid in product_id_clickstream if pd.notna(pid)]\n",
    "\n",
    "mapping = {pid: random.choice(product_ids) for pid in product_id_clickstream}\n",
    "\n",
    "clickstream_df['ProductID'] = clickstream_df['ProductID'].map(\n",
    "    lambda x: mapping.get(x, x))\n",
    "\n",
    "clickstream_df['Timestamp'] = pd.to_datetime(\n",
    "    clickstream_df['Timestamp'], errors='coerce')\n",
    "\n",
    "\n",
    "def shift_year(timestamp):\n",
    "    if pd.isna(timestamp):\n",
    "        return timestamp\n",
    "    new_year = random.choice([2017, 2018])\n",
    "    try:\n",
    "        return timestamp.replace(year=new_year)\n",
    "    except ValueError:\n",
    "        while True:\n",
    "            try:\n",
    "                return timestamp.replace(year=new_year, day=timestamp.day - 1)\n",
    "            except ValueError:\n",
    "                continue\n",
    "\n",
    "clickstream_df['Timestamp'] = clickstream_df['Timestamp'].apply(shift_year)\n",
    "\n",
    "clickstream_df = clickstream_df.sort_values(by='Timestamp')\n",
    "\n",
    "clickstream_df.to_csv(\n",
    "    '/Users/ren/Documents/workspace/E-Commerce-Analysis/data/updated/ecommerce_clickstream_transactions_updated.csv', index=False)"
   ]
  },
  {
   "cell_type": "code",
   "execution_count": 10,
   "metadata": {},
   "outputs": [
    {
     "name": "stdout",
     "output_type": "stream",
     "text": [
      "Log conversion completed. Check 'data/updated/ecommerce_clickstream_transactions_reformatted.txt' for the output.\n"
     ]
    }
   ],
   "source": [
    "import pandas as pd\n",
    "\n",
    "df = pd.read_csv(\n",
    "    '../data/updated/ecommerce_clickstream_transactions_updated.csv')\n",
    "\n",
    "\n",
    "def format_log_entry(row):\n",
    "    timestamp = row['Timestamp']\n",
    "    user_id = row['UserID']\n",
    "    session_id = row['SessionID']\n",
    "    event_type = row['EventType']\n",
    "    product_id = row['ProductID'] if pd.notna(row['ProductID']) else 'N/A'\n",
    "    amount = row['Amount'] if pd.notna(row['Amount']) else 'N/A'\n",
    "    outcome = row['Outcome'] if pd.notna(row['Outcome']) else 'N/A'\n",
    "\n",
    "    return (\n",
    "        f\"{timestamp} [INFO] - USER_ID: {user_id}, \"\n",
    "        f\"SESSION_ID: {session_id}, \"\n",
    "        f\"EVENT_TYPE: {event_type}, \"\n",
    "        f\"PRODUCT_ID: {product_id}, \"\n",
    "        f\"AMOUNT: {amount}, \"\n",
    "        f\"OUTCOME: {outcome}\"\n",
    "    )\n",
    "\n",
    "\n",
    "log_entries = df.apply(format_log_entry, axis=1)\n",
    "\n",
    "with open('../data/updated/ecommerce_clickstream_transactions_reformatted.txt', 'w') as f:\n",
    "    for entry in log_entries:\n",
    "        f.write(entry + '\\n')\n"
   ]
  },
  {
   "cell_type": "code",
   "execution_count": 17,
   "metadata": {},
   "outputs": [
    {
     "data": {
      "text/plain": [
       "(74816, 6)"
      ]
     },
     "execution_count": 17,
     "metadata": {},
     "output_type": "execute_result"
    }
   ],
   "source": [
    "pd.read_csv(\n",
    "    \"/Users/ren/Documents/workspace/E-Commerce-Analysis/data/updated/ecommerce_clickstream_transactions_reformatted.txt\").shape"
   ]
  },
  {
   "cell_type": "code",
   "execution_count": 15,
   "metadata": {},
   "outputs": [
    {
     "name": "stdout",
     "output_type": "stream",
     "text": [
      "Số dòng trong file: 4477843\n"
     ]
    }
   ],
   "source": [
    "with open(\"/Users/ren/Documents/workspace/E-Commerce-Analysis/data/updated/access_log_updated.txt\", 'r') as file:\n",
    "    line_count = sum(1 for line in file)\n",
    "\n",
    "print(f'Số dòng trong file: {line_count}')"
   ]
  },
  {
   "cell_type": "code",
   "execution_count": null,
   "metadata": {},
   "outputs": [],
   "source": []
  }
 ],
 "metadata": {
  "kernelspec": {
   "display_name": "base",
   "language": "python",
   "name": "python3"
  },
  "language_info": {
   "codemirror_mode": {
    "name": "ipython",
    "version": 3
   },
   "file_extension": ".py",
   "mimetype": "text/x-python",
   "name": "python",
   "nbconvert_exporter": "python",
   "pygments_lexer": "ipython3",
   "version": "3.11.7"
  }
 },
 "nbformat": 4,
 "nbformat_minor": 2
}
